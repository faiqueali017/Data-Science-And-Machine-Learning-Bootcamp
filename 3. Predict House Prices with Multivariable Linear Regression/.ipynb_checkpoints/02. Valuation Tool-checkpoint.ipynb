{
 "cells": [
  {
   "cell_type": "code",
   "execution_count": 1,
   "metadata": {},
   "outputs": [],
   "source": [
    "from sklearn.datasets import load_boston\n",
    "from sklearn.linear_model import LinearRegression\n",
    "from sklearn.metrics import mean_squared_error\n",
    "\n",
    "import pandas as pd\n",
    "import numpy as np"
   ]
  },
  {
   "cell_type": "code",
   "execution_count": 17,
   "metadata": {},
   "outputs": [],
   "source": [
    "# Gather Data\n",
    "boston_dataset = load_boston()\n",
    "\n",
    "# Extracting data from dataset attribute 'data'\n",
    "data = pd.DataFrame(data=boston_dataset.data, columns=boston_dataset.feature_names)\n",
    "\n",
    "# Dropping 2 attributes\n",
    "features = data.drop(['INDUS', 'AGE'], axis=1)\n",
    "\n",
    "# Storing prices in log\n",
    "log_prices = np.log(boston_dataset.target)\n",
    "target = pd.DataFrame(log_prices, columns=['PRICE'])"
   ]
  },
  {
   "cell_type": "code",
   "execution_count": 35,
   "metadata": {},
   "outputs": [
    {
     "data": {
      "text/plain": [
       "array([[3.61352356e+00, 1.13636364e+01, 6.91699605e-02, 5.54695059e-01,\n",
       "        6.28463439e+00, 3.79504269e+00, 9.54940711e+00, 4.08237154e+02,\n",
       "        1.84555336e+01, 3.56674032e+02, 1.26530632e+01]])"
      ]
     },
     "execution_count": 35,
     "metadata": {},
     "output_type": "execute_result"
    }
   ],
   "source": [
    "# Initializing indexes as per dataset\n",
    "CRIME_IDX = 0\n",
    "ZN_IDX = 1\n",
    "CHAS_IDX = 2\n",
    "RM_IDX = 4\n",
    "PTRATIO_IDX = 8\n",
    "\n",
    "'''\n",
    "-----------------------------\n",
    "        METHOD :01 \n",
    "-----------------------------\n",
    "# Initializing empty nd-array\n",
    "property_stats = np.ndarray(shape=(1,11))\n",
    "\n",
    "# Assigning mean values of every attr to its index\n",
    "property_stats[0][CRIME_IDX] = features['CRIM'].mean()\n",
    "property_stats[0][ZN_IDX] = features['ZN'].mean()\n",
    "property_stats[0][CHAS_IDX] = features['CHAS'].mean()\n",
    "'''\n",
    "\n",
    "#-----------------------------\n",
    "#        METHOD :02\n",
    "#-----------------------------\n",
    "property_stats = features.mean().values.reshape(1,11)\n",
    "property_stats"
   ]
  },
  {
   "cell_type": "code",
   "execution_count": 36,
   "metadata": {
    "scrolled": true
   },
   "outputs": [],
   "source": [
    "# Linear reg to fit our values\n",
    "regr = LinearRegression().fit(features, target)\n",
    "\n",
    "# Based on our features data frame we are calculating all the predicted \n",
    "# values using the thetas from our model\n",
    "fitted_vals = regr.predict(features)\n",
    "\n",
    "# Calculate MSE and RMSE using sklearn\n",
    "MSE = mean_squared_error(target, fitted_vals)\n",
    "RMSE = np.sqrt(MSE)"
   ]
  },
  {
   "cell_type": "code",
   "execution_count": 54,
   "metadata": {},
   "outputs": [],
   "source": [
    "'''\n",
    "Return price estimate of a particular property\n",
    "'''\n",
    "def get_log_estimate(nr_rooms,\n",
    "                    students_per_classroom,\n",
    "                    next_to_river = False,\n",
    "                    high_confidence = True):\n",
    "    \n",
    "    # Configure property\n",
    "    property_stats[0][RM_IDX] = nr_rooms\n",
    "    property_stats[0][PTRATIO_IDX] = students_per_classroom\n",
    "    \n",
    "    if next_to_river:\n",
    "        property_stats[0][CHAS_IDX] = 1\n",
    "    else:\n",
    "        property_stats[0][CHAS_IDX] = 0\n",
    "    \n",
    "    # Making predictions (Log price estimate from the nd-array)\n",
    "    log_estimate = regr.predict(property_stats)[0][0]\n",
    "    \n",
    "    # Calc Range\n",
    "    if high_confidence:\n",
    "        # Do 95%. 2-S.d interval\n",
    "        upper_bound = log_estimate + 2*RMSE\n",
    "        lower_bound = log_estimate - 2*RMSE\n",
    "        interval = 95\n",
    "    else:\n",
    "        # Do 68%, 1- S.d interval\n",
    "        upper_bound = log_estimate + RMSE\n",
    "        lower_bound = log_estimate - RMSE\n",
    "        interval = 68\n",
    "        \n",
    "    # Return all calc\n",
    "    return log_estimate, upper_bound, lower_bound, interval"
   ]
  },
  {
   "cell_type": "code",
   "execution_count": 56,
   "metadata": {},
   "outputs": [
    {
     "data": {
      "text/plain": [
       "(2.6716097430689403, 2.8591218782660706, 2.48409760787181, 68)"
      ]
     },
     "execution_count": 56,
     "metadata": {},
     "output_type": "execute_result"
    }
   ],
   "source": [
    "get_log_estimate(3,20,0,False)"
   ]
  },
  {
   "cell_type": "code",
   "execution_count": 57,
   "metadata": {},
   "outputs": [
    {
     "data": {
      "text/plain": [
       "21.2"
      ]
     },
     "execution_count": 57,
     "metadata": {},
     "output_type": "execute_result"
    }
   ],
   "source": [
    "# Median value of a property in 1970s in Boston\n",
    "np.median(boston_dataset.target)"
   ]
  },
  {
   "cell_type": "code",
   "execution_count": 65,
   "metadata": {},
   "outputs": [
    {
     "name": "stdout",
     "output_type": "stream",
     "text": [
      "The estimated property value is: 827000.0\n",
      "At 68% confidence the valuation range is.\n",
      "USD 685000.0 at the lower end to USD 997000.0 at high end.\n"
     ]
    }
   ],
   "source": [
    "ZILLOW_MEDIAN_PRICE = 583.3 # in 000s\n",
    "\n",
    "# Scale factor to multiply $prices from 1970 $prices\n",
    "SCALE_FACTOR = ZILLOW_MEDIAN_PRICE / np.median(boston_dataset.target) #583.3/21.2\n",
    "\n",
    "log_est, upper, lower, conf = get_log_estimate(nr_rooms=9,\n",
    "                                               students_per_classroom=15,\n",
    "                                               next_to_river= False,\n",
    "                                               high_confidence=False)\n",
    "\n",
    "# Convert to today's dollars\n",
    "dollar_est = np.e**log_est * 1000 * SCALE_FACTOR\n",
    "dollar_hi = np.e**upper * 1000 * SCALE_FACTOR\n",
    "dollar_low = np.e**lower * 1000 * SCALE_FACTOR\n",
    "\n",
    "# Round the dollar values to nearest thousands\n",
    "rounded_est = np.around(dollar_est, -3) # -3 will eliminate extra digits from 000s \n",
    "rounded_hi = np.around(dollar_hi, -3)\n",
    "rounded_low = np.around(dollar_low, -3)\n",
    "\n",
    "print(f'The estimated property value is: {rounded_est}')\n",
    "print(f'At {conf}% confidence the valuation range is.')\n",
    "print(f'USD {rounded_low} at the lower end to USD {rounded_hi} at high end.')"
   ]
  },
  {
   "cell_type": "code",
   "execution_count": 79,
   "metadata": {},
   "outputs": [],
   "source": [
    "def get_dollar_estimate(rm, ptratio, chas=False, large_range=True):\n",
    "    \"\"\"\n",
    "    Estimate the price of a property in Boston.\n",
    "    \n",
    "    Keyword arguments:\n",
    "    rm -- number of rooms in the property\n",
    "    ptratio -- number of students per teacher in the classroom for the school in the area\n",
    "    chas -- True if the property is next to the river, False otherwise\n",
    "    large_range -- True for a 95% prediction interval, False for a 68% interval\n",
    "    \"\"\"\n",
    "    \n",
    "    # Edge case checking\n",
    "    if rm < 1 or ptratio < 1:\n",
    "        print('The paramters which you trying to check is unrealistic. Try again!!!')\n",
    "        return\n",
    "    \n",
    "    # Calling get_log_estimate func\n",
    "    log_est, upper, lower, conf = get_log_estimate(nr_rooms=rm,\n",
    "                                       students_per_classroom=ptratio,\n",
    "                                       next_to_river= chas,\n",
    "                                       high_confidence=large_range)\n",
    "\n",
    "    # Convert to today's dollars\n",
    "    dollar_est = np.e**log_est * 1000 * SCALE_FACTOR\n",
    "    dollar_hi = np.e**upper * 1000 * SCALE_FACTOR\n",
    "    dollar_low = np.e**lower * 1000 * SCALE_FACTOR\n",
    "\n",
    "    # Round the dollar values to nearest thousands\n",
    "    rounded_est = np.around(dollar_est, -3) # -3 will eliminate extra digits from 000s \n",
    "    rounded_hi = np.around(dollar_hi, -3)\n",
    "    rounded_low = np.around(dollar_low, -3)\n",
    "\n",
    "    print(f'The estimated property value is: {rounded_est}')\n",
    "    print(f'At {conf}% confidence the valuation range is.')\n",
    "    print(f'USD {rounded_low} at the lower end to USD {rounded_hi} at high end.')"
   ]
  },
  {
   "cell_type": "code",
   "execution_count": 82,
   "metadata": {},
   "outputs": [
    {
     "name": "stdout",
     "output_type": "stream",
     "text": [
      "The estimated property value is: 584000.0\n",
      "At 95% confidence the valuation range is.\n",
      "USD 401000.0 at the lower end to USD 849000.0 at high end.\n"
     ]
    }
   ],
   "source": [
    "get_dollar_estimate(rm=4, ptratio=15, chas=True)"
   ]
  }
 ],
 "metadata": {
  "kernelspec": {
   "display_name": "Python 3",
   "language": "python",
   "name": "python3"
  },
  "language_info": {
   "codemirror_mode": {
    "name": "ipython",
    "version": 3
   },
   "file_extension": ".py",
   "mimetype": "text/x-python",
   "name": "python",
   "nbconvert_exporter": "python",
   "pygments_lexer": "ipython3",
   "version": "3.8.5"
  }
 },
 "nbformat": 4,
 "nbformat_minor": 4
}
